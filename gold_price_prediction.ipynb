{
 "cells": [
  {
   "cell_type": "markdown",
   "id": "79b0071c",
   "metadata": {},
   "source": [
    "# Gold price prediction\n",
    "implementing ANN in tensorflow. that would predict the price of gold, base on the features, like the price of silver."
   ]
  },
  {
   "cell_type": "code",
   "execution_count": 9,
   "id": "7d468d74",
   "metadata": {},
   "outputs": [],
   "source": [
    "import pandas as pd\n",
    "import numpy as np\n",
    "from sklearn.model_selection import train_test_split\n",
    "from sklearn.preprocessing import StandardScaler\n",
    "from sklearn.preprocessing import MinMaxScaler\n",
    "import tensorflow as tf\n",
    "from tensorflow import keras\n",
    "from tensorflow.keras import Sequential\n",
    "from tensorflow.keras.layers import Dense"
   ]
  },
  {
   "cell_type": "markdown",
   "id": "1c84f57d",
   "metadata": {},
   "source": [
    "# Loading data"
   ]
  },
  {
   "cell_type": "code",
   "execution_count": 11,
   "id": "e64830ee",
   "metadata": {},
   "outputs": [
    {
     "data": {
      "text/html": [
       "<div>\n",
       "<style scoped>\n",
       "    .dataframe tbody tr th:only-of-type {\n",
       "        vertical-align: middle;\n",
       "    }\n",
       "\n",
       "    .dataframe tbody tr th {\n",
       "        vertical-align: top;\n",
       "    }\n",
       "\n",
       "    .dataframe thead th {\n",
       "        text-align: right;\n",
       "    }\n",
       "</style>\n",
       "<table border=\"1\" class=\"dataframe\">\n",
       "  <thead>\n",
       "    <tr style=\"text-align: right;\">\n",
       "      <th></th>\n",
       "      <th>Date</th>\n",
       "      <th>SPX</th>\n",
       "      <th>GLD</th>\n",
       "      <th>USO</th>\n",
       "      <th>SLV</th>\n",
       "      <th>EUR/USD</th>\n",
       "    </tr>\n",
       "  </thead>\n",
       "  <tbody>\n",
       "    <tr>\n",
       "      <th>0</th>\n",
       "      <td>01/02/08</td>\n",
       "      <td>1447.160034</td>\n",
       "      <td>84.860001</td>\n",
       "      <td>78.470001</td>\n",
       "      <td>15.180</td>\n",
       "      <td>1.471692</td>\n",
       "    </tr>\n",
       "    <tr>\n",
       "      <th>1</th>\n",
       "      <td>01/03/08</td>\n",
       "      <td>1447.160034</td>\n",
       "      <td>85.570000</td>\n",
       "      <td>78.370003</td>\n",
       "      <td>15.285</td>\n",
       "      <td>1.474491</td>\n",
       "    </tr>\n",
       "    <tr>\n",
       "      <th>2</th>\n",
       "      <td>01/04/08</td>\n",
       "      <td>1411.630005</td>\n",
       "      <td>85.129997</td>\n",
       "      <td>77.309998</td>\n",
       "      <td>15.167</td>\n",
       "      <td>1.475492</td>\n",
       "    </tr>\n",
       "    <tr>\n",
       "      <th>3</th>\n",
       "      <td>01/07/08</td>\n",
       "      <td>1416.180054</td>\n",
       "      <td>84.769997</td>\n",
       "      <td>75.500000</td>\n",
       "      <td>15.053</td>\n",
       "      <td>1.468299</td>\n",
       "    </tr>\n",
       "    <tr>\n",
       "      <th>4</th>\n",
       "      <td>01/08/08</td>\n",
       "      <td>1390.189941</td>\n",
       "      <td>86.779999</td>\n",
       "      <td>76.059998</td>\n",
       "      <td>15.590</td>\n",
       "      <td>1.557099</td>\n",
       "    </tr>\n",
       "  </tbody>\n",
       "</table>\n",
       "</div>"
      ],
      "text/plain": [
       "       Date          SPX        GLD        USO     SLV   EUR/USD\n",
       "0  01/02/08  1447.160034  84.860001  78.470001  15.180  1.471692\n",
       "1  01/03/08  1447.160034  85.570000  78.370003  15.285  1.474491\n",
       "2  01/04/08  1411.630005  85.129997  77.309998  15.167  1.475492\n",
       "3  01/07/08  1416.180054  84.769997  75.500000  15.053  1.468299\n",
       "4  01/08/08  1390.189941  86.779999  76.059998  15.590  1.557099"
      ]
     },
     "execution_count": 11,
     "metadata": {},
     "output_type": "execute_result"
    }
   ],
   "source": [
    "data = pd.read_csv(\"gld_price_data.csv\")\n",
    "data.head()"
   ]
  },
  {
   "cell_type": "markdown",
   "id": "00b738e6",
   "metadata": {},
   "source": [
    "# Preprocessing"
   ]
  },
  {
   "cell_type": "code",
   "execution_count": 12,
   "id": "35005f6e",
   "metadata": {},
   "outputs": [],
   "source": [
    "features = data[['SPX','USO','SLV','EUR/USD']]\n",
    "label = data[['GLD']]"
   ]
  },
  {
   "cell_type": "code",
   "execution_count": 13,
   "id": "2e267f8b",
   "metadata": {},
   "outputs": [],
   "source": [
    "features_train,features_test,label_train,label_test = train_test_split(features,label,test_size = 0.2)"
   ]
  },
  {
   "cell_type": "code",
   "execution_count": 15,
   "id": "8ade7a63",
   "metadata": {},
   "outputs": [],
   "source": [
    "scaler = MinMaxScaler()\n",
    "features_train_scaled = scaler.fit_transform(features_train)\n",
    "features_test_scaled = scaler.transform(features_test)"
   ]
  },
  {
   "cell_type": "markdown",
   "id": "ba32134f",
   "metadata": {},
   "source": [
    "# Model"
   ]
  },
  {
   "cell_type": "code",
   "execution_count": 22,
   "id": "e0930fe7",
   "metadata": {},
   "outputs": [],
   "source": [
    "model = Sequential()\n",
    "model.add(Dense(10,activation=\"relu\",input_dim=4))\n",
    "model.add(Dense(10,activation=\"relu\"),)\n",
    "model.add(Dense(1,activation=\"linear\"),)#couche de sortie,est une classe\n",
    "model.compile(loss=\"mean_squared_error\",optimizer=\"Adam\")"
   ]
  },
  {
   "cell_type": "markdown",
   "id": "afddb99a",
   "metadata": {},
   "source": [
    "## Entrainement"
   ]
  },
  {
   "cell_type": "code",
   "execution_count": 23,
   "id": "be894064",
   "metadata": {},
   "outputs": [
    {
     "name": "stdout",
     "output_type": "stream",
     "text": [
      "Epoch 1/50\n",
      "52/52 [==============================] - 3s 21ms/step - loss: 753909.8750 - val_loss: 722155.1250\n",
      "Epoch 2/50\n",
      "52/52 [==============================] - 1s 11ms/step - loss: 752964.6875 - val_loss: 720775.2500\n",
      "Epoch 3/50\n",
      "52/52 [==============================] - 1s 11ms/step - loss: 751038.6875 - val_loss: 718266.5000\n",
      "Epoch 4/50\n",
      "52/52 [==============================] - 1s 11ms/step - loss: 747736.1250 - val_loss: 714115.6875\n",
      "Epoch 5/50\n",
      "52/52 [==============================] - 1s 11ms/step - loss: 742573.8125 - val_loss: 707921.0625\n",
      "Epoch 6/50\n",
      "52/52 [==============================] - 1s 11ms/step - loss: 735174.3750 - val_loss: 699383.6250\n",
      "Epoch 7/50\n",
      "52/52 [==============================] - 0s 9ms/step - loss: 725370.5625 - val_loss: 688402.4375\n",
      "Epoch 8/50\n",
      "52/52 [==============================] - 0s 9ms/step - loss: 713170.1875 - val_loss: 675228.2500\n",
      "Epoch 9/50\n",
      "52/52 [==============================] - 0s 9ms/step - loss: 698825.6250 - val_loss: 660169.0625\n",
      "Epoch 10/50\n",
      "52/52 [==============================] - 0s 9ms/step - loss: 682815.2500 - val_loss: 643830.1250\n",
      "Epoch 11/50\n",
      "52/52 [==============================] - 0s 9ms/step - loss: 665820.8750 - val_loss: 627017.3750\n",
      "Epoch 12/50\n",
      "52/52 [==============================] - 0s 9ms/step - loss: 648727.2500 - val_loss: 610597.9375\n",
      "Epoch 13/50\n",
      "52/52 [==============================] - 0s 9ms/step - loss: 632396.1250 - val_loss: 595591.0625\n",
      "Epoch 14/50\n",
      "52/52 [==============================] - 0s 9ms/step - loss: 617651.1250 - val_loss: 582603.9375\n",
      "Epoch 15/50\n",
      "52/52 [==============================] - 1s 10ms/step - loss: 605198.1875 - val_loss: 572216.3750\n",
      "Epoch 16/50\n",
      "52/52 [==============================] - 1s 10ms/step - loss: 595306.0000 - val_loss: 564552.1250\n",
      "Epoch 17/50\n",
      "52/52 [==============================] - 1s 11ms/step - loss: 587987.9375 - val_loss: 559146.6250\n",
      "Epoch 18/50\n",
      "52/52 [==============================] - 0s 9ms/step - loss: 582964.3750 - val_loss: 555725.5000\n",
      "Epoch 19/50\n",
      "52/52 [==============================] - 1s 14ms/step - loss: 579684.5625 - val_loss: 553664.8125\n",
      "Epoch 20/50\n",
      "52/52 [==============================] - 1s 14ms/step - loss: 577567.0000 - val_loss: 552354.6250\n",
      "Epoch 21/50\n",
      "52/52 [==============================] - 1s 10ms/step - loss: 576116.7500 - val_loss: 551420.0625\n",
      "Epoch 22/50\n",
      "52/52 [==============================] - 1s 10ms/step - loss: 575042.9375 - val_loss: 550640.6250\n",
      "Epoch 23/50\n",
      "52/52 [==============================] - 1s 15ms/step - loss: 574150.9375 - val_loss: 549901.9375\n",
      "Epoch 24/50\n",
      "52/52 [==============================] - 1s 10ms/step - loss: 573338.1875 - val_loss: 549156.8125\n",
      "Epoch 25/50\n",
      "52/52 [==============================] - 1s 16ms/step - loss: 572567.5625 - val_loss: 548419.1250\n",
      "Epoch 26/50\n",
      "52/52 [==============================] - 1s 13ms/step - loss: 571811.3125 - val_loss: 547670.6875\n",
      "Epoch 27/50\n",
      "52/52 [==============================] - 1s 15ms/step - loss: 571077.3125 - val_loss: 546935.7500\n",
      "Epoch 28/50\n",
      "52/52 [==============================] - 1s 14ms/step - loss: 570353.8125 - val_loss: 546215.8750\n",
      "Epoch 29/50\n",
      "52/52 [==============================] - 1s 15ms/step - loss: 569640.7500 - val_loss: 545473.6875\n",
      "Epoch 30/50\n",
      "52/52 [==============================] - 1s 14ms/step - loss: 568941.6875 - val_loss: 544761.9375\n",
      "Epoch 31/50\n",
      "52/52 [==============================] - 1s 12ms/step - loss: 568259.0000 - val_loss: 544050.0000\n",
      "Epoch 32/50\n",
      "52/52 [==============================] - 1s 15ms/step - loss: 567580.5625 - val_loss: 543372.7500\n",
      "Epoch 33/50\n",
      "52/52 [==============================] - 1s 11ms/step - loss: 566920.5625 - val_loss: 542692.3125\n",
      "Epoch 34/50\n",
      "52/52 [==============================] - 1s 11ms/step - loss: 566279.3125 - val_loss: 542026.8125\n",
      "Epoch 35/50\n",
      "52/52 [==============================] - 1s 10ms/step - loss: 565644.1250 - val_loss: 541373.3750\n",
      "Epoch 36/50\n",
      "52/52 [==============================] - 1s 12ms/step - loss: 565030.6875 - val_loss: 540739.6875\n",
      "Epoch 37/50\n",
      "52/52 [==============================] - 1s 12ms/step - loss: 564435.5625 - val_loss: 540134.8750\n",
      "Epoch 38/50\n",
      "52/52 [==============================] - 1s 13ms/step - loss: 563856.5625 - val_loss: 539547.5000\n",
      "Epoch 39/50\n",
      "52/52 [==============================] - 1s 14ms/step - loss: 563295.6875 - val_loss: 538977.8750\n",
      "Epoch 40/50\n",
      "52/52 [==============================] - 1s 13ms/step - loss: 562755.5625 - val_loss: 538428.0000\n",
      "Epoch 41/50\n",
      "52/52 [==============================] - 1s 11ms/step - loss: 562230.0000 - val_loss: 537907.3125\n",
      "Epoch 42/50\n",
      "52/52 [==============================] - 1s 12ms/step - loss: 561731.2500 - val_loss: 537400.5000\n",
      "Epoch 43/50\n",
      "52/52 [==============================] - 1s 12ms/step - loss: 561250.1875 - val_loss: 536917.8750\n",
      "Epoch 44/50\n",
      "52/52 [==============================] - 1s 14ms/step - loss: 560790.4375 - val_loss: 536458.1875\n",
      "Epoch 45/50\n",
      "52/52 [==============================] - 1s 12ms/step - loss: 560355.3125 - val_loss: 536028.4375\n",
      "Epoch 46/50\n",
      "52/52 [==============================] - 1s 12ms/step - loss: 559942.1250 - val_loss: 535626.0625\n",
      "Epoch 47/50\n",
      "52/52 [==============================] - 1s 11ms/step - loss: 559551.2500 - val_loss: 535242.2500\n",
      "Epoch 48/50\n",
      "52/52 [==============================] - 1s 13ms/step - loss: 559182.4375 - val_loss: 534890.6250\n",
      "Epoch 49/50\n",
      "52/52 [==============================] - 1s 11ms/step - loss: 558839.3750 - val_loss: 534554.3750\n",
      "Epoch 50/50\n",
      "52/52 [==============================] - 1s 13ms/step - loss: 558521.6250 - val_loss: 534254.6250\n"
     ]
    }
   ],
   "source": [
    "history = model.fit(features_train_scaled,features_train,epochs = 50,validation_split = 0.1)"
   ]
  },
  {
   "cell_type": "code",
   "execution_count": null,
   "id": "9b3eb74e",
   "metadata": {},
   "outputs": [],
   "source": []
  },
  {
   "cell_type": "code",
   "execution_count": 24,
   "id": "0828a5e7",
   "metadata": {},
   "outputs": [
    {
     "name": "stdout",
     "output_type": "stream",
     "text": [
      "15/15 [==============================] - 0s 6ms/step\n"
     ]
    }
   ],
   "source": [
    "label_prediction = model.predict(features_test_scaled)"
   ]
  },
  {
   "cell_type": "code",
   "execution_count": 25,
   "id": "f133a329",
   "metadata": {},
   "outputs": [
    {
     "data": {
      "text/plain": [
       "-172.8710529360303"
      ]
     },
     "execution_count": 25,
     "metadata": {},
     "output_type": "execute_result"
    }
   ],
   "source": [
    "from sklearn.metrics import r2_score\n",
    "r2_score(label_test,label_prediction)"
   ]
  },
  {
   "cell_type": "code",
   "execution_count": null,
   "id": "be40b7d0",
   "metadata": {},
   "outputs": [],
   "source": []
  }
 ],
 "metadata": {
  "kernelspec": {
   "display_name": "Python 3 (ipykernel)",
   "language": "python",
   "name": "python3"
  },
  "language_info": {
   "codemirror_mode": {
    "name": "ipython",
    "version": 3
   },
   "file_extension": ".py",
   "mimetype": "text/x-python",
   "name": "python",
   "nbconvert_exporter": "python",
   "pygments_lexer": "ipython3",
   "version": "3.8.10"
  }
 },
 "nbformat": 4,
 "nbformat_minor": 5
}
